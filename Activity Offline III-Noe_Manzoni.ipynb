{
 "cells": [
  {
   "cell_type": "markdown",
   "id": "a631a0ec",
   "metadata": {},
   "source": [
    "Offline activities of Module III: question-guided learning of factor analysis. Use your favorite literature programming tools (i.e. Rmarkdown/Jupyter Notebook) to investigate the topic of factor analysis. Use the questions below to guide your learning."
   ]
  },
  {
   "cell_type": "markdown",
   "id": "bcbd62bc",
   "metadata": {},
   "source": [
    "## Questions"
   ]
  },
  {
   "cell_type": "markdown",
   "id": "f3d1edba",
   "metadata": {},
   "source": [
    "## 1. What is factor analysis?"
   ]
  },
  {
   "cell_type": "markdown",
   "id": "41a08959",
   "metadata": {},
   "source": [
    "To estimate a model which explain variance/covariance between a set of observed variables (in a population) by a set of unobserved factors + weightings. Factor analysis is a technique that is used to reduce a large number of variables into fewer numbers of factors.  This technique extracts maximum common variance from all variables and puts them into a common score.\n"
   ]
  },
  {
   "cell_type": "markdown",
   "id": "bb20488c",
   "metadata": {},
   "source": [
    "## 2. What are the relationships between covariance matrix, factor analysis, and principal component analysis (PCA)?"
   ]
  },
  {
   "cell_type": "markdown",
   "id": "fad34ef6",
   "metadata": {},
   "source": [
    "- It is preferable to use Factor Analysis on the Co-variance Matrix when the variables under consideration have roughly the same order of magnitudes on the numerical data associated , i.e, when the variables need not be scaled down to unit norm to ensure proper scaling in data-set.\n",
    "- PCA is used to decompose the data into a smaller number of components and therefore is a type of Singular Value Decomposition (SVD). Factor Analysis is used to understand the underlying 'cause' which these factors (latent or constituents) capture much of the information of a set of variables in the dataset data"
   ]
  },
  {
   "cell_type": "markdown",
   "id": "05abd734",
   "metadata": {},
   "source": [
    "## 3. What do we mean with loadings?"
   ]
  },
  {
   "cell_type": "markdown",
   "id": "0ce71324",
   "metadata": {},
   "source": [
    "Factor loadings are correlation coefficients between observed variables and latent common factors. Factor loadings can also be viewed as standardized regression coefficients, or regression weights."
   ]
  },
  {
   "cell_type": "markdown",
   "id": "9a9ec0b2",
   "metadata": {},
   "source": [
    "## 4. Why factors are orthogonal to each other? What’s the consequence?"
   ]
  },
  {
   "cell_type": "markdown",
   "id": "d8c343de",
   "metadata": {},
   "source": [
    "An orthogonal model means that all independent variables in that model are uncorrelated. If one or more independent variables are correlated, then that model is non-orthogonal. If the variables are uncorrelated, there is not linear relationtioship"
   ]
  },
  {
   "cell_type": "markdown",
   "id": "bbc30fd2",
   "metadata": {},
   "source": [
    "## 5. How can we use factor analysis as a generative model?"
   ]
  },
  {
   "cell_type": "markdown",
   "id": "ed0aeca1",
   "metadata": {},
   "source": [
    "- A generative model is a statistical model of the joint probability distribution. on given observable variable X and target variable Y.\n",
    "- Factor analysis is a statistical method for modeling high-dimensional data using a smaller number of latent variables."
   ]
  },
  {
   "cell_type": "markdown",
   "id": "46abf469",
   "metadata": {},
   "source": [
    "## 6. What is the relationship between factor analysis and autoencoder?"
   ]
  },
  {
   "cell_type": "markdown",
   "id": "c7863ec8",
   "metadata": {},
   "source": [
    "-  linear factor analysis methods like PCA give you projections to a low-dimensional hyperplane (like line in 2D space). So, the only dependency PCA could find is just correlation/covariance.\n",
    "- Auto-encoders, on the other hand, can learn a \"manifold\" (like curve in 2D-space), so it might find more complicated \"non-linear\" factors, or might not if there is not enough network's capacity \n",
    "- Both search for a relation in a pool of data, but they try to model in to different relations"
   ]
  },
  {
   "cell_type": "markdown",
   "id": "9f2c8095",
   "metadata": {},
   "source": [
    "## 7. How can you it explain factor analysis to a high-school student?"
   ]
  },
  {
   "cell_type": "markdown",
   "id": "3e6ff808",
   "metadata": {},
   "source": [
    "Factor analysis is a way to take a mass of data and shrinking it to a smaller data set that is more manageable and more understandable. It's a way to find hidden patterns, show how those patterns overlap and show what characteristics are seen in multiple patterns."
   ]
  },
  {
   "cell_type": "markdown",
   "id": "faa285f9",
   "metadata": {},
   "source": [
    "#### Note:\n",
    "Although a very interesting topic, these questions were very complex. I apologise if I was very minimalist in some cases, but I learnt a lot during my research."
   ]
  },
  {
   "cell_type": "code",
   "execution_count": null,
   "id": "a9096cf3",
   "metadata": {},
   "outputs": [],
   "source": []
  }
 ],
 "metadata": {
  "kernelspec": {
   "display_name": "Python 3 (ipykernel)",
   "language": "python",
   "name": "python3"
  },
  "language_info": {
   "codemirror_mode": {
    "name": "ipython",
    "version": 3
   },
   "file_extension": ".py",
   "mimetype": "text/x-python",
   "name": "python",
   "nbconvert_exporter": "python",
   "pygments_lexer": "ipython3",
   "version": "3.8.12"
  }
 },
 "nbformat": 4,
 "nbformat_minor": 5
}
